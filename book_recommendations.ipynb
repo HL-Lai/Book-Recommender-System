{
 "cells": [
  {
   "cell_type": "markdown",
   "id": "666ce2eb-f58a-4175-89fe-9f0b2270cf7a",
   "metadata": {},
   "source": [
    "# Book Recommender System"
   ]
  },
  {
   "cell_type": "code",
   "execution_count": 1,
   "id": "5c56dc12",
   "metadata": {
    "id": "5c56dc12"
   },
   "outputs": [],
   "source": [
    "# Importing necessary libraries\n",
    "import os\n",
    "import random\n",
    "import warnings\n",
    "import zipfile\n",
    "\n",
    "import numpy as np\n",
    "import pandas as pd\n",
    "from scipy.sparse import csr_matrix\n",
    "from sklearn.decomposition import TruncatedSVD\n",
    "from sklearn.neighbors import NearestNeighbors\n",
    "from surprise import BaselineOnly, Dataset, KNNBasic, NMF, NormalPredictor, Reader, SVD\n",
    "from surprise.model_selection import cross_validate, GridSearchCV, train_test_split\n",
    "\n",
    "# Suppressing warnings\n",
    "warnings.filterwarnings('ignore')"
   ]
  },
  {
   "cell_type": "code",
   "execution_count": 2,
   "id": "62dfb2ef",
   "metadata": {},
   "outputs": [],
   "source": [
    "data = {}\n",
    "filename = 'books_users_data.zip'\n",
    "zfile = zipfile.ZipFile(filename, 'r')\n",
    "for name in zfile.namelist():\n",
    "    if name.endswith('.csv'):\n",
    "        data[name.split('.')[0]] = zfile.open(name)"
   ]
  },
  {
   "cell_type": "code",
   "execution_count": 3,
   "id": "529d70e7",
   "metadata": {
    "id": "529d70e7"
   },
   "outputs": [],
   "source": [
    "books_df = pd.read_csv(data['Books'], encoding='latin-1')\n",
    "ratings_df = pd.read_csv(data['Ratings'], encoding='latin-1')\n",
    "users_df = pd.read_csv(data['Users'], encoding='latin-1')"
   ]
  },
  {
   "cell_type": "code",
   "execution_count": 4,
   "id": "bec40d5f",
   "metadata": {
    "id": "bec40d5f",
    "outputId": "ed9a3462-3eac-47d9-c95e-a3835443e086",
    "tags": []
   },
   "outputs": [
    {
     "data": {
      "text/html": [
       "<div>\n",
       "<style scoped>\n",
       "    .dataframe tbody tr th:only-of-type {\n",
       "        vertical-align: middle;\n",
       "    }\n",
       "\n",
       "    .dataframe tbody tr th {\n",
       "        vertical-align: top;\n",
       "    }\n",
       "\n",
       "    .dataframe thead th {\n",
       "        text-align: right;\n",
       "    }\n",
       "</style>\n",
       "<table border=\"1\" class=\"dataframe\">\n",
       "  <thead>\n",
       "    <tr style=\"text-align: right;\">\n",
       "      <th></th>\n",
       "      <th>User-ID</th>\n",
       "      <th>ISBN</th>\n",
       "      <th>Book-Rating</th>\n",
       "    </tr>\n",
       "  </thead>\n",
       "  <tbody>\n",
       "    <tr>\n",
       "      <th>0</th>\n",
       "      <td>276725</td>\n",
       "      <td>034545104X</td>\n",
       "      <td>0</td>\n",
       "    </tr>\n",
       "    <tr>\n",
       "      <th>1</th>\n",
       "      <td>276726</td>\n",
       "      <td>0155061224</td>\n",
       "      <td>5</td>\n",
       "    </tr>\n",
       "    <tr>\n",
       "      <th>2</th>\n",
       "      <td>276727</td>\n",
       "      <td>0446520802</td>\n",
       "      <td>0</td>\n",
       "    </tr>\n",
       "    <tr>\n",
       "      <th>3</th>\n",
       "      <td>276729</td>\n",
       "      <td>052165615X</td>\n",
       "      <td>3</td>\n",
       "    </tr>\n",
       "    <tr>\n",
       "      <th>4</th>\n",
       "      <td>276729</td>\n",
       "      <td>0521795028</td>\n",
       "      <td>6</td>\n",
       "    </tr>\n",
       "  </tbody>\n",
       "</table>\n",
       "</div>"
      ],
      "text/plain": [
       "   User-ID        ISBN  Book-Rating\n",
       "0   276725  034545104X            0\n",
       "1   276726  0155061224            5\n",
       "2   276727  0446520802            0\n",
       "3   276729  052165615X            3\n",
       "4   276729  0521795028            6"
      ]
     },
     "execution_count": 4,
     "metadata": {},
     "output_type": "execute_result"
    }
   ],
   "source": [
    "ratings_df.head()"
   ]
  },
  {
   "cell_type": "code",
   "execution_count": 5,
   "id": "c986089e",
   "metadata": {
    "id": "c986089e",
    "outputId": "f2f459ae-c9da-47ca-c9e2-9502fd36e90f",
    "tags": []
   },
   "outputs": [
    {
     "data": {
      "text/html": [
       "<div>\n",
       "<style scoped>\n",
       "    .dataframe tbody tr th:only-of-type {\n",
       "        vertical-align: middle;\n",
       "    }\n",
       "\n",
       "    .dataframe tbody tr th {\n",
       "        vertical-align: top;\n",
       "    }\n",
       "\n",
       "    .dataframe thead th {\n",
       "        text-align: right;\n",
       "    }\n",
       "</style>\n",
       "<table border=\"1\" class=\"dataframe\">\n",
       "  <thead>\n",
       "    <tr style=\"text-align: right;\">\n",
       "      <th></th>\n",
       "      <th>ISBN</th>\n",
       "      <th>Book-Title</th>\n",
       "      <th>Book-Author</th>\n",
       "      <th>Year-Of-Publication</th>\n",
       "      <th>Publisher</th>\n",
       "      <th>Image-URL-S</th>\n",
       "      <th>Image-URL-M</th>\n",
       "      <th>Image-URL-L</th>\n",
       "    </tr>\n",
       "  </thead>\n",
       "  <tbody>\n",
       "    <tr>\n",
       "      <th>0</th>\n",
       "      <td>0195153448</td>\n",
       "      <td>Classical Mythology</td>\n",
       "      <td>Mark P. O. Morford</td>\n",
       "      <td>2002</td>\n",
       "      <td>Oxford University Press</td>\n",
       "      <td>http://images.amazon.com/images/P/0195153448.0...</td>\n",
       "      <td>http://images.amazon.com/images/P/0195153448.0...</td>\n",
       "      <td>http://images.amazon.com/images/P/0195153448.0...</td>\n",
       "    </tr>\n",
       "    <tr>\n",
       "      <th>1</th>\n",
       "      <td>0002005018</td>\n",
       "      <td>Clara Callan</td>\n",
       "      <td>Richard Bruce Wright</td>\n",
       "      <td>2001</td>\n",
       "      <td>HarperFlamingo Canada</td>\n",
       "      <td>http://images.amazon.com/images/P/0002005018.0...</td>\n",
       "      <td>http://images.amazon.com/images/P/0002005018.0...</td>\n",
       "      <td>http://images.amazon.com/images/P/0002005018.0...</td>\n",
       "    </tr>\n",
       "    <tr>\n",
       "      <th>2</th>\n",
       "      <td>0060973129</td>\n",
       "      <td>Decision in Normandy</td>\n",
       "      <td>Carlo D'Este</td>\n",
       "      <td>1991</td>\n",
       "      <td>HarperPerennial</td>\n",
       "      <td>http://images.amazon.com/images/P/0060973129.0...</td>\n",
       "      <td>http://images.amazon.com/images/P/0060973129.0...</td>\n",
       "      <td>http://images.amazon.com/images/P/0060973129.0...</td>\n",
       "    </tr>\n",
       "    <tr>\n",
       "      <th>3</th>\n",
       "      <td>0374157065</td>\n",
       "      <td>Flu: The Story of the Great Influenza Pandemic...</td>\n",
       "      <td>Gina Bari Kolata</td>\n",
       "      <td>1999</td>\n",
       "      <td>Farrar Straus Giroux</td>\n",
       "      <td>http://images.amazon.com/images/P/0374157065.0...</td>\n",
       "      <td>http://images.amazon.com/images/P/0374157065.0...</td>\n",
       "      <td>http://images.amazon.com/images/P/0374157065.0...</td>\n",
       "    </tr>\n",
       "    <tr>\n",
       "      <th>4</th>\n",
       "      <td>0393045218</td>\n",
       "      <td>The Mummies of Urumchi</td>\n",
       "      <td>E. J. W. Barber</td>\n",
       "      <td>1999</td>\n",
       "      <td>W. W. Norton &amp;amp; Company</td>\n",
       "      <td>http://images.amazon.com/images/P/0393045218.0...</td>\n",
       "      <td>http://images.amazon.com/images/P/0393045218.0...</td>\n",
       "      <td>http://images.amazon.com/images/P/0393045218.0...</td>\n",
       "    </tr>\n",
       "  </tbody>\n",
       "</table>\n",
       "</div>"
      ],
      "text/plain": [
       "         ISBN                                         Book-Title  \\\n",
       "0  0195153448                                Classical Mythology   \n",
       "1  0002005018                                       Clara Callan   \n",
       "2  0060973129                               Decision in Normandy   \n",
       "3  0374157065  Flu: The Story of the Great Influenza Pandemic...   \n",
       "4  0393045218                             The Mummies of Urumchi   \n",
       "\n",
       "            Book-Author Year-Of-Publication                   Publisher  \\\n",
       "0    Mark P. O. Morford                2002     Oxford University Press   \n",
       "1  Richard Bruce Wright                2001       HarperFlamingo Canada   \n",
       "2          Carlo D'Este                1991             HarperPerennial   \n",
       "3      Gina Bari Kolata                1999        Farrar Straus Giroux   \n",
       "4       E. J. W. Barber                1999  W. W. Norton &amp; Company   \n",
       "\n",
       "                                         Image-URL-S  \\\n",
       "0  http://images.amazon.com/images/P/0195153448.0...   \n",
       "1  http://images.amazon.com/images/P/0002005018.0...   \n",
       "2  http://images.amazon.com/images/P/0060973129.0...   \n",
       "3  http://images.amazon.com/images/P/0374157065.0...   \n",
       "4  http://images.amazon.com/images/P/0393045218.0...   \n",
       "\n",
       "                                         Image-URL-M  \\\n",
       "0  http://images.amazon.com/images/P/0195153448.0...   \n",
       "1  http://images.amazon.com/images/P/0002005018.0...   \n",
       "2  http://images.amazon.com/images/P/0060973129.0...   \n",
       "3  http://images.amazon.com/images/P/0374157065.0...   \n",
       "4  http://images.amazon.com/images/P/0393045218.0...   \n",
       "\n",
       "                                         Image-URL-L  \n",
       "0  http://images.amazon.com/images/P/0195153448.0...  \n",
       "1  http://images.amazon.com/images/P/0002005018.0...  \n",
       "2  http://images.amazon.com/images/P/0060973129.0...  \n",
       "3  http://images.amazon.com/images/P/0374157065.0...  \n",
       "4  http://images.amazon.com/images/P/0393045218.0...  "
      ]
     },
     "execution_count": 5,
     "metadata": {},
     "output_type": "execute_result"
    }
   ],
   "source": [
    "books_df.head()"
   ]
  },
  {
   "cell_type": "code",
   "execution_count": 6,
   "id": "3932192d",
   "metadata": {
    "id": "3932192d",
    "outputId": "644eb741-307e-49b7-9ed4-796e4b81573b",
    "tags": []
   },
   "outputs": [
    {
     "data": {
      "text/html": [
       "<div>\n",
       "<style scoped>\n",
       "    .dataframe tbody tr th:only-of-type {\n",
       "        vertical-align: middle;\n",
       "    }\n",
       "\n",
       "    .dataframe tbody tr th {\n",
       "        vertical-align: top;\n",
       "    }\n",
       "\n",
       "    .dataframe thead th {\n",
       "        text-align: right;\n",
       "    }\n",
       "</style>\n",
       "<table border=\"1\" class=\"dataframe\">\n",
       "  <thead>\n",
       "    <tr style=\"text-align: right;\">\n",
       "      <th></th>\n",
       "      <th>User-ID</th>\n",
       "      <th>Location</th>\n",
       "      <th>Age</th>\n",
       "    </tr>\n",
       "  </thead>\n",
       "  <tbody>\n",
       "    <tr>\n",
       "      <th>0</th>\n",
       "      <td>1</td>\n",
       "      <td>nyc, new york, usa</td>\n",
       "      <td>NaN</td>\n",
       "    </tr>\n",
       "    <tr>\n",
       "      <th>1</th>\n",
       "      <td>2</td>\n",
       "      <td>stockton, california, usa</td>\n",
       "      <td>18.0</td>\n",
       "    </tr>\n",
       "    <tr>\n",
       "      <th>2</th>\n",
       "      <td>3</td>\n",
       "      <td>moscow, yukon territory, russia</td>\n",
       "      <td>NaN</td>\n",
       "    </tr>\n",
       "    <tr>\n",
       "      <th>3</th>\n",
       "      <td>4</td>\n",
       "      <td>porto, v.n.gaia, portugal</td>\n",
       "      <td>17.0</td>\n",
       "    </tr>\n",
       "    <tr>\n",
       "      <th>4</th>\n",
       "      <td>5</td>\n",
       "      <td>farnborough, hants, united kingdom</td>\n",
       "      <td>NaN</td>\n",
       "    </tr>\n",
       "  </tbody>\n",
       "</table>\n",
       "</div>"
      ],
      "text/plain": [
       "   User-ID                            Location   Age\n",
       "0        1                  nyc, new york, usa   NaN\n",
       "1        2           stockton, california, usa  18.0\n",
       "2        3     moscow, yukon territory, russia   NaN\n",
       "3        4           porto, v.n.gaia, portugal  17.0\n",
       "4        5  farnborough, hants, united kingdom   NaN"
      ]
     },
     "execution_count": 6,
     "metadata": {},
     "output_type": "execute_result"
    }
   ],
   "source": [
    "users_df.head()"
   ]
  },
  {
   "cell_type": "code",
   "execution_count": 7,
   "id": "920bb1ff",
   "metadata": {
    "id": "920bb1ff",
    "outputId": "508477a1-1fd4-47e9-a637-214205dfd3f1"
   },
   "outputs": [
    {
     "name": "stdout",
     "output_type": "stream",
     "text": [
      "No. of rows for Ratings = 1149780\n",
      "No. of rows for Books = 271360\n",
      "No. of rows for Users = 278858\n"
     ]
    }
   ],
   "source": [
    "# No. of rows for each dataset\n",
    "datasets = [(\"Ratings\", ratings_df), (\"Books\", books_df), (\"Users\", users_df)]\n",
    "for i in datasets:\n",
    "    print(\"No. of rows for {} = {}\".format(i[0], len(i[1])))"
   ]
  },
  {
   "cell_type": "code",
   "execution_count": 8,
   "id": "621f9385",
   "metadata": {
    "id": "621f9385",
    "outputId": "358a6176-1fd8-4fe7-a9dc-7a0db2104e44"
   },
   "outputs": [
    {
     "data": {
      "text/html": [
       "<div>\n",
       "<style scoped>\n",
       "    .dataframe tbody tr th:only-of-type {\n",
       "        vertical-align: middle;\n",
       "    }\n",
       "\n",
       "    .dataframe tbody tr th {\n",
       "        vertical-align: top;\n",
       "    }\n",
       "\n",
       "    .dataframe thead th {\n",
       "        text-align: right;\n",
       "    }\n",
       "</style>\n",
       "<table border=\"1\" class=\"dataframe\">\n",
       "  <thead>\n",
       "    <tr style=\"text-align: right;\">\n",
       "      <th></th>\n",
       "      <th>User-ID</th>\n",
       "      <th>ISBN</th>\n",
       "      <th>Book-Rating</th>\n",
       "    </tr>\n",
       "  </thead>\n",
       "  <tbody>\n",
       "    <tr>\n",
       "      <th>0</th>\n",
       "      <td>276725</td>\n",
       "      <td>034545104X</td>\n",
       "      <td>0</td>\n",
       "    </tr>\n",
       "    <tr>\n",
       "      <th>1</th>\n",
       "      <td>276726</td>\n",
       "      <td>0155061224</td>\n",
       "      <td>5</td>\n",
       "    </tr>\n",
       "    <tr>\n",
       "      <th>2</th>\n",
       "      <td>276727</td>\n",
       "      <td>0446520802</td>\n",
       "      <td>0</td>\n",
       "    </tr>\n",
       "    <tr>\n",
       "      <th>3</th>\n",
       "      <td>276729</td>\n",
       "      <td>052165615X</td>\n",
       "      <td>3</td>\n",
       "    </tr>\n",
       "    <tr>\n",
       "      <th>4</th>\n",
       "      <td>276729</td>\n",
       "      <td>0521795028</td>\n",
       "      <td>6</td>\n",
       "    </tr>\n",
       "    <tr>\n",
       "      <th>...</th>\n",
       "      <td>...</td>\n",
       "      <td>...</td>\n",
       "      <td>...</td>\n",
       "    </tr>\n",
       "    <tr>\n",
       "      <th>1149775</th>\n",
       "      <td>276704</td>\n",
       "      <td>1563526298</td>\n",
       "      <td>9</td>\n",
       "    </tr>\n",
       "    <tr>\n",
       "      <th>1149776</th>\n",
       "      <td>276706</td>\n",
       "      <td>0679447156</td>\n",
       "      <td>0</td>\n",
       "    </tr>\n",
       "    <tr>\n",
       "      <th>1149777</th>\n",
       "      <td>276709</td>\n",
       "      <td>0515107662</td>\n",
       "      <td>10</td>\n",
       "    </tr>\n",
       "    <tr>\n",
       "      <th>1149778</th>\n",
       "      <td>276721</td>\n",
       "      <td>0590442449</td>\n",
       "      <td>10</td>\n",
       "    </tr>\n",
       "    <tr>\n",
       "      <th>1149779</th>\n",
       "      <td>276723</td>\n",
       "      <td>05162443314</td>\n",
       "      <td>8</td>\n",
       "    </tr>\n",
       "  </tbody>\n",
       "</table>\n",
       "<p>1149780 rows × 3 columns</p>\n",
       "</div>"
      ],
      "text/plain": [
       "         User-ID         ISBN  Book-Rating\n",
       "0         276725   034545104X            0\n",
       "1         276726   0155061224            5\n",
       "2         276727   0446520802            0\n",
       "3         276729   052165615X            3\n",
       "4         276729   0521795028            6\n",
       "...          ...          ...          ...\n",
       "1149775   276704   1563526298            9\n",
       "1149776   276706   0679447156            0\n",
       "1149777   276709   0515107662           10\n",
       "1149778   276721   0590442449           10\n",
       "1149779   276723  05162443314            8\n",
       "\n",
       "[1149780 rows x 3 columns]"
      ]
     },
     "execution_count": 8,
     "metadata": {},
     "output_type": "execute_result"
    }
   ],
   "source": [
    "ratings_df"
   ]
  },
  {
   "cell_type": "markdown",
   "id": "7ca4b30f",
   "metadata": {
    "id": "7ca4b30f",
    "tags": []
   },
   "source": [
    "## Data preprocessing\n",
    "---"
   ]
  },
  {
   "cell_type": "markdown",
   "id": "06da7731",
   "metadata": {
    "id": "06da7731",
    "tags": []
   },
   "source": [
    "### Data cleaning"
   ]
  },
  {
   "cell_type": "code",
   "execution_count": 9,
   "id": "fdb869be",
   "metadata": {
    "id": "fdb869be",
    "outputId": "229fd381-d575-405f-b3d9-b2307fb9e188"
   },
   "outputs": [
    {
     "data": {
      "text/plain": [
       "ISBN                   0\n",
       "Book-Title             0\n",
       "Book-Author            1\n",
       "Year-Of-Publication    0\n",
       "Publisher              2\n",
       "Image-URL-S            0\n",
       "Image-URL-M            0\n",
       "Image-URL-L            3\n",
       "dtype: int64"
      ]
     },
     "execution_count": 9,
     "metadata": {},
     "output_type": "execute_result"
    }
   ],
   "source": [
    "books_df.isna().sum()"
   ]
  },
  {
   "cell_type": "code",
   "execution_count": 10,
   "id": "b7bf499d",
   "metadata": {
    "id": "b7bf499d",
    "outputId": "ed5b17ee-b4bc-4e8a-ac8a-3fcfa8c92a4c"
   },
   "outputs": [
    {
     "data": {
      "text/plain": [
       "User-ID          0\n",
       "Location         0\n",
       "Age         110762\n",
       "dtype: int64"
      ]
     },
     "execution_count": 10,
     "metadata": {},
     "output_type": "execute_result"
    }
   ],
   "source": [
    "users_df.isna().sum()"
   ]
  },
  {
   "cell_type": "code",
   "execution_count": 11,
   "id": "6b3900b4",
   "metadata": {
    "id": "6b3900b4"
   },
   "outputs": [],
   "source": [
    "# Fill na values from Age with mean\n",
    "age_mean = users_df['Age'].mean()\n",
    "users_df['Age'].fillna(age_mean, inplace = True)"
   ]
  },
  {
   "cell_type": "code",
   "execution_count": 12,
   "id": "70646e5c",
   "metadata": {
    "id": "70646e5c",
    "outputId": "93e1dc4c-4323-4eae-8148-16ae361d1481"
   },
   "outputs": [
    {
     "data": {
      "text/plain": [
       "User-ID     0\n",
       "Location    0\n",
       "Age         0\n",
       "dtype: int64"
      ]
     },
     "execution_count": 12,
     "metadata": {},
     "output_type": "execute_result"
    }
   ],
   "source": [
    "users_df.isna().sum()"
   ]
  },
  {
   "cell_type": "markdown",
   "id": "930f9ca1",
   "metadata": {
    "id": "930f9ca1"
   },
   "source": [
    "### Remove duplicates"
   ]
  },
  {
   "cell_type": "code",
   "execution_count": 13,
   "id": "c3e05431",
   "metadata": {
    "id": "c3e05431"
   },
   "outputs": [],
   "source": [
    "r_row = len(ratings_df.index)"
   ]
  },
  {
   "cell_type": "code",
   "execution_count": 14,
   "id": "370481d3",
   "metadata": {
    "id": "370481d3",
    "outputId": "7fe229e2-5b8c-4e35-fad7-192b621bf212"
   },
   "outputs": [
    {
     "name": "stdout",
     "output_type": "stream",
     "text": [
      "No. of duplicates detected: 0\n"
     ]
    }
   ],
   "source": [
    "ratings_df.drop_duplicates(subset=['ISBN', 'User-ID'], keep='first', inplace=True)\n",
    "print(\"No. of duplicates detected: {}\".format(len(ratings_df.index) - r_row))"
   ]
  },
  {
   "cell_type": "code",
   "execution_count": 15,
   "id": "d3d9ad5b",
   "metadata": {
    "id": "d3d9ad5b"
   },
   "outputs": [],
   "source": [
    "books_df.drop_duplicates(subset='ISBN', inplace=True)\n",
    "users_df.drop_duplicates(subset='User-ID', inplace=True)"
   ]
  },
  {
   "cell_type": "markdown",
   "id": "e4fb5ef3",
   "metadata": {
    "id": "e4fb5ef3"
   },
   "source": [
    "### Remove wrong data entry\n",
    "It is found that there are some *errors in data entry* in `books_df`"
   ]
  },
  {
   "cell_type": "code",
   "execution_count": 16,
   "id": "975a77c1",
   "metadata": {
    "id": "975a77c1"
   },
   "outputs": [],
   "source": [
    "df0 = books_df.copy()"
   ]
  },
  {
   "cell_type": "code",
   "execution_count": 17,
   "id": "6ceb7af6",
   "metadata": {
    "id": "6ceb7af6"
   },
   "outputs": [],
   "source": [
    "df0['Year-Of-Publication'] = pd.to_numeric(df0['Year-Of-Publication'], errors='coerce')"
   ]
  },
  {
   "cell_type": "code",
   "execution_count": 18,
   "id": "2923082a",
   "metadata": {
    "id": "2923082a",
    "outputId": "b04006e5-daa7-47f1-9281-1a8f9b61689a"
   },
   "outputs": [
    {
     "data": {
      "text/html": [
       "<div>\n",
       "<style scoped>\n",
       "    .dataframe tbody tr th:only-of-type {\n",
       "        vertical-align: middle;\n",
       "    }\n",
       "\n",
       "    .dataframe tbody tr th {\n",
       "        vertical-align: top;\n",
       "    }\n",
       "\n",
       "    .dataframe thead th {\n",
       "        text-align: right;\n",
       "    }\n",
       "</style>\n",
       "<table border=\"1\" class=\"dataframe\">\n",
       "  <thead>\n",
       "    <tr style=\"text-align: right;\">\n",
       "      <th></th>\n",
       "      <th>ISBN</th>\n",
       "      <th>Book-Title</th>\n",
       "      <th>Book-Author</th>\n",
       "      <th>Year-Of-Publication</th>\n",
       "      <th>Publisher</th>\n",
       "      <th>Image-URL-S</th>\n",
       "      <th>Image-URL-M</th>\n",
       "      <th>Image-URL-L</th>\n",
       "    </tr>\n",
       "  </thead>\n",
       "  <tbody>\n",
       "    <tr>\n",
       "      <th>209538</th>\n",
       "      <td>078946697X</td>\n",
       "      <td>DK Readers: Creating the X-Men, How It All Beg...</td>\n",
       "      <td>2000</td>\n",
       "      <td>NaN</td>\n",
       "      <td>http://images.amazon.com/images/P/078946697X.0...</td>\n",
       "      <td>http://images.amazon.com/images/P/078946697X.0...</td>\n",
       "      <td>http://images.amazon.com/images/P/078946697X.0...</td>\n",
       "      <td>NaN</td>\n",
       "    </tr>\n",
       "    <tr>\n",
       "      <th>220731</th>\n",
       "      <td>2070426769</td>\n",
       "      <td>Peuple du ciel, suivi de 'Les Bergers\\\";Jean-M...</td>\n",
       "      <td>2003</td>\n",
       "      <td>NaN</td>\n",
       "      <td>http://images.amazon.com/images/P/2070426769.0...</td>\n",
       "      <td>http://images.amazon.com/images/P/2070426769.0...</td>\n",
       "      <td>http://images.amazon.com/images/P/2070426769.0...</td>\n",
       "      <td>NaN</td>\n",
       "    </tr>\n",
       "    <tr>\n",
       "      <th>221678</th>\n",
       "      <td>0789466953</td>\n",
       "      <td>DK Readers: Creating the X-Men, How Comic Book...</td>\n",
       "      <td>2000</td>\n",
       "      <td>NaN</td>\n",
       "      <td>http://images.amazon.com/images/P/0789466953.0...</td>\n",
       "      <td>http://images.amazon.com/images/P/0789466953.0...</td>\n",
       "      <td>http://images.amazon.com/images/P/0789466953.0...</td>\n",
       "      <td>NaN</td>\n",
       "    </tr>\n",
       "  </tbody>\n",
       "</table>\n",
       "</div>"
      ],
      "text/plain": [
       "              ISBN                                         Book-Title  \\\n",
       "209538  078946697X  DK Readers: Creating the X-Men, How It All Beg...   \n",
       "220731  2070426769  Peuple du ciel, suivi de 'Les Bergers\\\";Jean-M...   \n",
       "221678  0789466953  DK Readers: Creating the X-Men, How Comic Book...   \n",
       "\n",
       "       Book-Author  Year-Of-Publication  \\\n",
       "209538        2000                  NaN   \n",
       "220731        2003                  NaN   \n",
       "221678        2000                  NaN   \n",
       "\n",
       "                                                Publisher  \\\n",
       "209538  http://images.amazon.com/images/P/078946697X.0...   \n",
       "220731  http://images.amazon.com/images/P/2070426769.0...   \n",
       "221678  http://images.amazon.com/images/P/0789466953.0...   \n",
       "\n",
       "                                              Image-URL-S  \\\n",
       "209538  http://images.amazon.com/images/P/078946697X.0...   \n",
       "220731  http://images.amazon.com/images/P/2070426769.0...   \n",
       "221678  http://images.amazon.com/images/P/0789466953.0...   \n",
       "\n",
       "                                              Image-URL-M Image-URL-L  \n",
       "209538  http://images.amazon.com/images/P/078946697X.0...         NaN  \n",
       "220731  http://images.amazon.com/images/P/2070426769.0...         NaN  \n",
       "221678  http://images.amazon.com/images/P/0789466953.0...         NaN  "
      ]
     },
     "execution_count": 18,
     "metadata": {},
     "output_type": "execute_result"
    }
   ],
   "source": [
    "df0[df0['Year-Of-Publication'].isna()]"
   ]
  },
  {
   "cell_type": "markdown",
   "id": "0ac24f35",
   "metadata": {
    "id": "0ac24f35"
   },
   "source": [
    "The *year of publication* for these 3 rows was written under the column of `Book-Author` instead of `Year-Of-Publication`.<p>\n",
    "The *correct table* should be:\n",
    "    \n",
    "| | ISBN | Book-Title | Book-Author | Year-Of-Publication | ... |\n",
    "| -: | -: | -: | -: | -: | -: |\n",
    "| **209538** | 078946697X | DK Readers:<br> Creating the X<br>-Men, How It All<br> Beg... | NaN | 2000 | ... |\n",
    "| **220731** | 2070426769 | Peuple du ciel,<br> suivi de 'Les<br> Bergers\\\";Jean-<br>M... | NaN | 2003 | ... |\n",
    "| **221678** | 0789466953 | DK Readers:<br> Creating the X-<br>Men, How<br> Comic Book... | NaN | 2000 | ... |\n",
    "\n",
    "**However**, to avoid confusion or wrong correction of data, these rows with wrong data entry are *dropped*."
   ]
  },
  {
   "cell_type": "code",
   "execution_count": 19,
   "id": "2bf1445e",
   "metadata": {
    "id": "2bf1445e"
   },
   "outputs": [],
   "source": [
    "# Drop the incorrect data entry\n",
    "valid_rows = pd.to_numeric(books_df['Year-Of-Publication'], errors='coerce').notna()\n",
    "books_df = books_df[valid_rows]\n",
    "\n",
    "books_df['Year-Of-Publication'] = books_df['Year-Of-Publication'].astype(int)"
   ]
  },
  {
   "cell_type": "code",
   "execution_count": 20,
   "id": "fe8aff4f",
   "metadata": {
    "id": "fe8aff4f",
    "outputId": "1698a69b-3b79-44e3-d3f0-3170587ed668"
   },
   "outputs": [
    {
     "data": {
      "text/html": [
       "<div>\n",
       "<style scoped>\n",
       "    .dataframe tbody tr th:only-of-type {\n",
       "        vertical-align: middle;\n",
       "    }\n",
       "\n",
       "    .dataframe tbody tr th {\n",
       "        vertical-align: top;\n",
       "    }\n",
       "\n",
       "    .dataframe thead th {\n",
       "        text-align: right;\n",
       "    }\n",
       "</style>\n",
       "<table border=\"1\" class=\"dataframe\">\n",
       "  <thead>\n",
       "    <tr style=\"text-align: right;\">\n",
       "      <th></th>\n",
       "      <th>ISBN</th>\n",
       "      <th>Book-Title</th>\n",
       "      <th>Book-Author</th>\n",
       "      <th>Year-Of-Publication</th>\n",
       "      <th>Publisher</th>\n",
       "      <th>Image-URL-S</th>\n",
       "      <th>Image-URL-M</th>\n",
       "      <th>Image-URL-L</th>\n",
       "    </tr>\n",
       "  </thead>\n",
       "  <tbody>\n",
       "    <tr>\n",
       "      <th>0</th>\n",
       "      <td>0195153448</td>\n",
       "      <td>Classical Mythology</td>\n",
       "      <td>Mark P. O. Morford</td>\n",
       "      <td>2002</td>\n",
       "      <td>Oxford University Press</td>\n",
       "      <td>http://images.amazon.com/images/P/0195153448.0...</td>\n",
       "      <td>http://images.amazon.com/images/P/0195153448.0...</td>\n",
       "      <td>http://images.amazon.com/images/P/0195153448.0...</td>\n",
       "    </tr>\n",
       "    <tr>\n",
       "      <th>1</th>\n",
       "      <td>0002005018</td>\n",
       "      <td>Clara Callan</td>\n",
       "      <td>Richard Bruce Wright</td>\n",
       "      <td>2001</td>\n",
       "      <td>HarperFlamingo Canada</td>\n",
       "      <td>http://images.amazon.com/images/P/0002005018.0...</td>\n",
       "      <td>http://images.amazon.com/images/P/0002005018.0...</td>\n",
       "      <td>http://images.amazon.com/images/P/0002005018.0...</td>\n",
       "    </tr>\n",
       "    <tr>\n",
       "      <th>2</th>\n",
       "      <td>0060973129</td>\n",
       "      <td>Decision in Normandy</td>\n",
       "      <td>Carlo D'Este</td>\n",
       "      <td>1991</td>\n",
       "      <td>HarperPerennial</td>\n",
       "      <td>http://images.amazon.com/images/P/0060973129.0...</td>\n",
       "      <td>http://images.amazon.com/images/P/0060973129.0...</td>\n",
       "      <td>http://images.amazon.com/images/P/0060973129.0...</td>\n",
       "    </tr>\n",
       "    <tr>\n",
       "      <th>3</th>\n",
       "      <td>0374157065</td>\n",
       "      <td>Flu: The Story of the Great Influenza Pandemic...</td>\n",
       "      <td>Gina Bari Kolata</td>\n",
       "      <td>1999</td>\n",
       "      <td>Farrar Straus Giroux</td>\n",
       "      <td>http://images.amazon.com/images/P/0374157065.0...</td>\n",
       "      <td>http://images.amazon.com/images/P/0374157065.0...</td>\n",
       "      <td>http://images.amazon.com/images/P/0374157065.0...</td>\n",
       "    </tr>\n",
       "    <tr>\n",
       "      <th>4</th>\n",
       "      <td>0393045218</td>\n",
       "      <td>The Mummies of Urumchi</td>\n",
       "      <td>E. J. W. Barber</td>\n",
       "      <td>1999</td>\n",
       "      <td>W. W. Norton &amp;amp; Company</td>\n",
       "      <td>http://images.amazon.com/images/P/0393045218.0...</td>\n",
       "      <td>http://images.amazon.com/images/P/0393045218.0...</td>\n",
       "      <td>http://images.amazon.com/images/P/0393045218.0...</td>\n",
       "    </tr>\n",
       "  </tbody>\n",
       "</table>\n",
       "</div>"
      ],
      "text/plain": [
       "         ISBN                                         Book-Title  \\\n",
       "0  0195153448                                Classical Mythology   \n",
       "1  0002005018                                       Clara Callan   \n",
       "2  0060973129                               Decision in Normandy   \n",
       "3  0374157065  Flu: The Story of the Great Influenza Pandemic...   \n",
       "4  0393045218                             The Mummies of Urumchi   \n",
       "\n",
       "            Book-Author  Year-Of-Publication                   Publisher  \\\n",
       "0    Mark P. O. Morford                 2002     Oxford University Press   \n",
       "1  Richard Bruce Wright                 2001       HarperFlamingo Canada   \n",
       "2          Carlo D'Este                 1991             HarperPerennial   \n",
       "3      Gina Bari Kolata                 1999        Farrar Straus Giroux   \n",
       "4       E. J. W. Barber                 1999  W. W. Norton &amp; Company   \n",
       "\n",
       "                                         Image-URL-S  \\\n",
       "0  http://images.amazon.com/images/P/0195153448.0...   \n",
       "1  http://images.amazon.com/images/P/0002005018.0...   \n",
       "2  http://images.amazon.com/images/P/0060973129.0...   \n",
       "3  http://images.amazon.com/images/P/0374157065.0...   \n",
       "4  http://images.amazon.com/images/P/0393045218.0...   \n",
       "\n",
       "                                         Image-URL-M  \\\n",
       "0  http://images.amazon.com/images/P/0195153448.0...   \n",
       "1  http://images.amazon.com/images/P/0002005018.0...   \n",
       "2  http://images.amazon.com/images/P/0060973129.0...   \n",
       "3  http://images.amazon.com/images/P/0374157065.0...   \n",
       "4  http://images.amazon.com/images/P/0393045218.0...   \n",
       "\n",
       "                                         Image-URL-L  \n",
       "0  http://images.amazon.com/images/P/0195153448.0...  \n",
       "1  http://images.amazon.com/images/P/0002005018.0...  \n",
       "2  http://images.amazon.com/images/P/0060973129.0...  \n",
       "3  http://images.amazon.com/images/P/0374157065.0...  \n",
       "4  http://images.amazon.com/images/P/0393045218.0...  "
      ]
     },
     "execution_count": 20,
     "metadata": {},
     "output_type": "execute_result"
    }
   ],
   "source": [
    "books_df.head()"
   ]
  },
  {
   "cell_type": "code",
   "execution_count": 21,
   "id": "f04d8d17",
   "metadata": {
    "id": "f04d8d17"
   },
   "outputs": [],
   "source": [
    "del df0"
   ]
  },
  {
   "cell_type": "markdown",
   "id": "f5f15ad3",
   "metadata": {
    "id": "f5f15ad3"
   },
   "source": [
    "### Remove books with very few ratings and users that rated very few books"
   ]
  },
  {
   "cell_type": "code",
   "execution_count": 22,
   "id": "4ddd7325",
   "metadata": {
    "id": "4ddd7325"
   },
   "outputs": [],
   "source": [
    "ratings_count = ratings_df.groupby('ISBN')['Book-Rating'].count().reset_index()\n",
    "ratings_count.rename(columns={'Book-Rating': 'Ratings_Count'}, inplace=True)"
   ]
  },
  {
   "cell_type": "code",
   "execution_count": 23,
   "id": "7456baee",
   "metadata": {
    "id": "7456baee",
    "outputId": "875ebb88-1131-4785-c821-20ad05de6854"
   },
   "outputs": [
    {
     "data": {
      "text/html": [
       "<div>\n",
       "<style scoped>\n",
       "    .dataframe tbody tr th:only-of-type {\n",
       "        vertical-align: middle;\n",
       "    }\n",
       "\n",
       "    .dataframe tbody tr th {\n",
       "        vertical-align: top;\n",
       "    }\n",
       "\n",
       "    .dataframe thead th {\n",
       "        text-align: right;\n",
       "    }\n",
       "</style>\n",
       "<table border=\"1\" class=\"dataframe\">\n",
       "  <thead>\n",
       "    <tr style=\"text-align: right;\">\n",
       "      <th></th>\n",
       "      <th>ISBN</th>\n",
       "      <th>Ratings_Count</th>\n",
       "    </tr>\n",
       "  </thead>\n",
       "  <tbody>\n",
       "    <tr>\n",
       "      <th>0</th>\n",
       "      <td>0330299891</td>\n",
       "      <td>2</td>\n",
       "    </tr>\n",
       "    <tr>\n",
       "      <th>1</th>\n",
       "      <td>0375404120</td>\n",
       "      <td>2</td>\n",
       "    </tr>\n",
       "    <tr>\n",
       "      <th>2</th>\n",
       "      <td>0586045007</td>\n",
       "      <td>1</td>\n",
       "    </tr>\n",
       "    <tr>\n",
       "      <th>3</th>\n",
       "      <td>9022906116</td>\n",
       "      <td>2</td>\n",
       "    </tr>\n",
       "    <tr>\n",
       "      <th>4</th>\n",
       "      <td>9032803328</td>\n",
       "      <td>1</td>\n",
       "    </tr>\n",
       "  </tbody>\n",
       "</table>\n",
       "</div>"
      ],
      "text/plain": [
       "          ISBN  Ratings_Count\n",
       "0   0330299891              2\n",
       "1   0375404120              2\n",
       "2   0586045007              1\n",
       "3   9022906116              2\n",
       "4   9032803328              1"
      ]
     },
     "execution_count": 23,
     "metadata": {},
     "output_type": "execute_result"
    }
   ],
   "source": [
    "ratings_count.head()"
   ]
  },
  {
   "cell_type": "code",
   "execution_count": 24,
   "id": "3944a05a",
   "metadata": {
    "id": "3944a05a",
    "tags": []
   },
   "outputs": [],
   "source": [
    "# Add the number of ratings of each book into the books dataset\n",
    "books_df = books_df.merge(ratings_count, on='ISBN', how='left')\n",
    "books_df = books_df[books_df['Ratings_Count'].notnull()]"
   ]
  },
  {
   "cell_type": "code",
   "execution_count": 25,
   "id": "db99bd60",
   "metadata": {
    "id": "db99bd60"
   },
   "outputs": [],
   "source": [
    "# set at least 50 ratings as the threshold\n",
    "books_df = books_df[books_df['Ratings_Count'] >= 50] "
   ]
  },
  {
   "cell_type": "code",
   "execution_count": 26,
   "id": "e92dd756",
   "metadata": {
    "id": "e92dd756",
    "outputId": "3c3cad8f-2c21-4a0e-b237-deef6ef78c6d"
   },
   "outputs": [
    {
     "data": {
      "text/html": [
       "<div>\n",
       "<style scoped>\n",
       "    .dataframe tbody tr th:only-of-type {\n",
       "        vertical-align: middle;\n",
       "    }\n",
       "\n",
       "    .dataframe tbody tr th {\n",
       "        vertical-align: top;\n",
       "    }\n",
       "\n",
       "    .dataframe thead th {\n",
       "        text-align: right;\n",
       "    }\n",
       "</style>\n",
       "<table border=\"1\" class=\"dataframe\">\n",
       "  <thead>\n",
       "    <tr style=\"text-align: right;\">\n",
       "      <th></th>\n",
       "      <th>ISBN</th>\n",
       "      <th>Book-Title</th>\n",
       "      <th>Book-Author</th>\n",
       "      <th>Year-Of-Publication</th>\n",
       "      <th>Publisher</th>\n",
       "      <th>Image-URL-S</th>\n",
       "      <th>Image-URL-M</th>\n",
       "      <th>Image-URL-L</th>\n",
       "      <th>Ratings_Count</th>\n",
       "    </tr>\n",
       "  </thead>\n",
       "  <tbody>\n",
       "    <tr>\n",
       "      <th>18</th>\n",
       "      <td>0440234743</td>\n",
       "      <td>The Testament</td>\n",
       "      <td>John Grisham</td>\n",
       "      <td>1999</td>\n",
       "      <td>Dell</td>\n",
       "      <td>http://images.amazon.com/images/P/0440234743.0...</td>\n",
       "      <td>http://images.amazon.com/images/P/0440234743.0...</td>\n",
       "      <td>http://images.amazon.com/images/P/0440234743.0...</td>\n",
       "      <td>422.0</td>\n",
       "    </tr>\n",
       "    <tr>\n",
       "      <th>19</th>\n",
       "      <td>0452264464</td>\n",
       "      <td>Beloved (Plume Contemporary Fiction)</td>\n",
       "      <td>Toni Morrison</td>\n",
       "      <td>1994</td>\n",
       "      <td>Plume</td>\n",
       "      <td>http://images.amazon.com/images/P/0452264464.0...</td>\n",
       "      <td>http://images.amazon.com/images/P/0452264464.0...</td>\n",
       "      <td>http://images.amazon.com/images/P/0452264464.0...</td>\n",
       "      <td>180.0</td>\n",
       "    </tr>\n",
       "    <tr>\n",
       "      <th>26</th>\n",
       "      <td>0971880107</td>\n",
       "      <td>Wild Animus</td>\n",
       "      <td>Rich Shapero</td>\n",
       "      <td>2004</td>\n",
       "      <td>Too Far</td>\n",
       "      <td>http://images.amazon.com/images/P/0971880107.0...</td>\n",
       "      <td>http://images.amazon.com/images/P/0971880107.0...</td>\n",
       "      <td>http://images.amazon.com/images/P/0971880107.0...</td>\n",
       "      <td>2502.0</td>\n",
       "    </tr>\n",
       "    <tr>\n",
       "      <th>27</th>\n",
       "      <td>0345402871</td>\n",
       "      <td>Airframe</td>\n",
       "      <td>Michael Crichton</td>\n",
       "      <td>1997</td>\n",
       "      <td>Ballantine Books</td>\n",
       "      <td>http://images.amazon.com/images/P/0345402871.0...</td>\n",
       "      <td>http://images.amazon.com/images/P/0345402871.0...</td>\n",
       "      <td>http://images.amazon.com/images/P/0345402871.0...</td>\n",
       "      <td>207.0</td>\n",
       "    </tr>\n",
       "    <tr>\n",
       "      <th>28</th>\n",
       "      <td>0345417623</td>\n",
       "      <td>Timeline</td>\n",
       "      <td>MICHAEL CRICHTON</td>\n",
       "      <td>2000</td>\n",
       "      <td>Ballantine Books</td>\n",
       "      <td>http://images.amazon.com/images/P/0345417623.0...</td>\n",
       "      <td>http://images.amazon.com/images/P/0345417623.0...</td>\n",
       "      <td>http://images.amazon.com/images/P/0345417623.0...</td>\n",
       "      <td>407.0</td>\n",
       "    </tr>\n",
       "  </tbody>\n",
       "</table>\n",
       "</div>"
      ],
      "text/plain": [
       "          ISBN                            Book-Title       Book-Author  \\\n",
       "18  0440234743                         The Testament      John Grisham   \n",
       "19  0452264464  Beloved (Plume Contemporary Fiction)     Toni Morrison   \n",
       "26  0971880107                           Wild Animus      Rich Shapero   \n",
       "27  0345402871                              Airframe  Michael Crichton   \n",
       "28  0345417623                              Timeline  MICHAEL CRICHTON   \n",
       "\n",
       "    Year-Of-Publication         Publisher  \\\n",
       "18                 1999              Dell   \n",
       "19                 1994             Plume   \n",
       "26                 2004           Too Far   \n",
       "27                 1997  Ballantine Books   \n",
       "28                 2000  Ballantine Books   \n",
       "\n",
       "                                          Image-URL-S  \\\n",
       "18  http://images.amazon.com/images/P/0440234743.0...   \n",
       "19  http://images.amazon.com/images/P/0452264464.0...   \n",
       "26  http://images.amazon.com/images/P/0971880107.0...   \n",
       "27  http://images.amazon.com/images/P/0345402871.0...   \n",
       "28  http://images.amazon.com/images/P/0345417623.0...   \n",
       "\n",
       "                                          Image-URL-M  \\\n",
       "18  http://images.amazon.com/images/P/0440234743.0...   \n",
       "19  http://images.amazon.com/images/P/0452264464.0...   \n",
       "26  http://images.amazon.com/images/P/0971880107.0...   \n",
       "27  http://images.amazon.com/images/P/0345402871.0...   \n",
       "28  http://images.amazon.com/images/P/0345417623.0...   \n",
       "\n",
       "                                          Image-URL-L  Ratings_Count  \n",
       "18  http://images.amazon.com/images/P/0440234743.0...          422.0  \n",
       "19  http://images.amazon.com/images/P/0452264464.0...          180.0  \n",
       "26  http://images.amazon.com/images/P/0971880107.0...         2502.0  \n",
       "27  http://images.amazon.com/images/P/0345402871.0...          207.0  \n",
       "28  http://images.amazon.com/images/P/0345417623.0...          407.0  "
      ]
     },
     "execution_count": 26,
     "metadata": {},
     "output_type": "execute_result"
    }
   ],
   "source": [
    "books_df.head()"
   ]
  },
  {
   "cell_type": "code",
   "execution_count": 27,
   "id": "2e0abe17",
   "metadata": {
    "id": "2e0abe17"
   },
   "outputs": [],
   "source": [
    "ratings_df = ratings_df[ratings_df['ISBN'].isin(books_df['ISBN'])]\n",
    "ratings_df = ratings_df[ratings_df['User-ID'].isin(users_df['User-ID'])]"
   ]
  },
  {
   "cell_type": "code",
   "execution_count": 28,
   "id": "7507612d-770b-45a9-9128-accce96fbe93",
   "metadata": {},
   "outputs": [],
   "source": [
    "# Filter users that rated very few books\n",
    "user_counts = ratings_df['User-ID'].value_counts()\n",
    "ratings_df = ratings_df[ratings_df['User-ID'].isin(user_counts[user_counts >= 10].index)]"
   ]
  },
  {
   "cell_type": "code",
   "execution_count": 29,
   "id": "cec8046e",
   "metadata": {
    "id": "cec8046e",
    "outputId": "510b31a7-472f-40e2-af4f-e0ad33ae45b0"
   },
   "outputs": [
    {
     "data": {
      "text/html": [
       "<div>\n",
       "<style scoped>\n",
       "    .dataframe tbody tr th:only-of-type {\n",
       "        vertical-align: middle;\n",
       "    }\n",
       "\n",
       "    .dataframe tbody tr th {\n",
       "        vertical-align: top;\n",
       "    }\n",
       "\n",
       "    .dataframe thead th {\n",
       "        text-align: right;\n",
       "    }\n",
       "</style>\n",
       "<table border=\"1\" class=\"dataframe\">\n",
       "  <thead>\n",
       "    <tr style=\"text-align: right;\">\n",
       "      <th></th>\n",
       "      <th>User-ID</th>\n",
       "      <th>ISBN</th>\n",
       "      <th>Book-Rating</th>\n",
       "    </tr>\n",
       "  </thead>\n",
       "  <tbody>\n",
       "    <tr>\n",
       "      <th>795</th>\n",
       "      <td>277042</td>\n",
       "      <td>0060505885</td>\n",
       "      <td>0</td>\n",
       "    </tr>\n",
       "    <tr>\n",
       "      <th>796</th>\n",
       "      <td>277042</td>\n",
       "      <td>0061097101</td>\n",
       "      <td>0</td>\n",
       "    </tr>\n",
       "    <tr>\n",
       "      <th>798</th>\n",
       "      <td>277042</td>\n",
       "      <td>0312283709</td>\n",
       "      <td>8</td>\n",
       "    </tr>\n",
       "    <tr>\n",
       "      <th>799</th>\n",
       "      <td>277042</td>\n",
       "      <td>0312983271</td>\n",
       "      <td>0</td>\n",
       "    </tr>\n",
       "    <tr>\n",
       "      <th>800</th>\n",
       "      <td>277042</td>\n",
       "      <td>0380731851</td>\n",
       "      <td>0</td>\n",
       "    </tr>\n",
       "  </tbody>\n",
       "</table>\n",
       "</div>"
      ],
      "text/plain": [
       "     User-ID        ISBN  Book-Rating\n",
       "795   277042  0060505885            0\n",
       "796   277042  0061097101            0\n",
       "798   277042  0312283709            8\n",
       "799   277042  0312983271            0\n",
       "800   277042  0380731851            0"
      ]
     },
     "execution_count": 29,
     "metadata": {},
     "output_type": "execute_result"
    }
   ],
   "source": [
    "ratings_df.head()"
   ]
  },
  {
   "cell_type": "markdown",
   "id": "d7af5a29",
   "metadata": {
    "id": "d7af5a29"
   },
   "source": [
    "### Nomalization"
   ]
  },
  {
   "cell_type": "code",
   "execution_count": 30,
   "id": "6039eaba",
   "metadata": {
    "id": "6039eaba",
    "outputId": "3e8b084e-2d92-4147-b924-94f2baf9ad65"
   },
   "outputs": [
    {
     "data": {
      "text/html": [
       "<div>\n",
       "<style scoped>\n",
       "    .dataframe tbody tr th:only-of-type {\n",
       "        vertical-align: middle;\n",
       "    }\n",
       "\n",
       "    .dataframe tbody tr th {\n",
       "        vertical-align: top;\n",
       "    }\n",
       "\n",
       "    .dataframe thead th {\n",
       "        text-align: right;\n",
       "    }\n",
       "</style>\n",
       "<table border=\"1\" class=\"dataframe\">\n",
       "  <thead>\n",
       "    <tr style=\"text-align: right;\">\n",
       "      <th></th>\n",
       "      <th>User-ID</th>\n",
       "      <th>ISBN</th>\n",
       "      <th>Book-Rating</th>\n",
       "    </tr>\n",
       "  </thead>\n",
       "  <tbody>\n",
       "    <tr>\n",
       "      <th>795</th>\n",
       "      <td>277042</td>\n",
       "      <td>0060505885</td>\n",
       "      <td>0</td>\n",
       "    </tr>\n",
       "    <tr>\n",
       "      <th>796</th>\n",
       "      <td>277042</td>\n",
       "      <td>0061097101</td>\n",
       "      <td>0</td>\n",
       "    </tr>\n",
       "    <tr>\n",
       "      <th>798</th>\n",
       "      <td>277042</td>\n",
       "      <td>0312283709</td>\n",
       "      <td>8</td>\n",
       "    </tr>\n",
       "    <tr>\n",
       "      <th>799</th>\n",
       "      <td>277042</td>\n",
       "      <td>0312983271</td>\n",
       "      <td>0</td>\n",
       "    </tr>\n",
       "    <tr>\n",
       "      <th>800</th>\n",
       "      <td>277042</td>\n",
       "      <td>0380731851</td>\n",
       "      <td>0</td>\n",
       "    </tr>\n",
       "    <tr>\n",
       "      <th>801</th>\n",
       "      <td>277042</td>\n",
       "      <td>0446605484</td>\n",
       "      <td>7</td>\n",
       "    </tr>\n",
       "    <tr>\n",
       "      <th>802</th>\n",
       "      <td>277042</td>\n",
       "      <td>0446611212</td>\n",
       "      <td>8</td>\n",
       "    </tr>\n",
       "    <tr>\n",
       "      <th>803</th>\n",
       "      <td>277042</td>\n",
       "      <td>0451188454</td>\n",
       "      <td>0</td>\n",
       "    </tr>\n",
       "    <tr>\n",
       "      <th>805</th>\n",
       "      <td>277042</td>\n",
       "      <td>0609804138</td>\n",
       "      <td>9</td>\n",
       "    </tr>\n",
       "    <tr>\n",
       "      <th>806</th>\n",
       "      <td>277042</td>\n",
       "      <td>0671003755</td>\n",
       "      <td>0</td>\n",
       "    </tr>\n",
       "  </tbody>\n",
       "</table>\n",
       "</div>"
      ],
      "text/plain": [
       "     User-ID        ISBN  Book-Rating\n",
       "795   277042  0060505885            0\n",
       "796   277042  0061097101            0\n",
       "798   277042  0312283709            8\n",
       "799   277042  0312983271            0\n",
       "800   277042  0380731851            0\n",
       "801   277042  0446605484            7\n",
       "802   277042  0446611212            8\n",
       "803   277042  0451188454            0\n",
       "805   277042  0609804138            9\n",
       "806   277042  0671003755            0"
      ]
     },
     "execution_count": 30,
     "metadata": {},
     "output_type": "execute_result"
    }
   ],
   "source": [
    "ratings_df.head(10)"
   ]
  },
  {
   "cell_type": "code",
   "execution_count": 31,
   "id": "2a67084d",
   "metadata": {
    "id": "2a67084d",
    "outputId": "2da34919-bf11-4e34-fc6a-56d728637dfd"
   },
   "outputs": [
    {
     "data": {
      "text/plain": [
       "[0, 1, 2, 3, 4, 5, 6, 7, 8, 9, 10]"
      ]
     },
     "execution_count": 31,
     "metadata": {},
     "output_type": "execute_result"
    }
   ],
   "source": [
    "sorted(ratings_df['Book-Rating'].unique())"
   ]
  },
  {
   "cell_type": "markdown",
   "id": "30adbba5",
   "metadata": {
    "id": "30adbba5"
   },
   "source": [
    "Ratings are *ranged from 0 to 10*"
   ]
  },
  {
   "cell_type": "code",
   "execution_count": 32,
   "id": "67b57270",
   "metadata": {
    "id": "67b57270"
   },
   "outputs": [],
   "source": [
    "# Finding the mean ratings of each user\n",
    "mean_rating = ratings_df.groupby('User-ID')['Book-Rating'].mean().reset_index()\n",
    "mean_rating.rename(columns={'Book-Rating': 'Mean_Rating'}, inplace=True)"
   ]
  },
  {
   "cell_type": "code",
   "execution_count": 33,
   "id": "93cc8c1a",
   "metadata": {
    "id": "93cc8c1a",
    "outputId": "742fddee-9fa4-4f53-cc6b-1d8450e96ef1"
   },
   "outputs": [
    {
     "data": {
      "text/html": [
       "<div>\n",
       "<style scoped>\n",
       "    .dataframe tbody tr th:only-of-type {\n",
       "        vertical-align: middle;\n",
       "    }\n",
       "\n",
       "    .dataframe tbody tr th {\n",
       "        vertical-align: top;\n",
       "    }\n",
       "\n",
       "    .dataframe thead th {\n",
       "        text-align: right;\n",
       "    }\n",
       "</style>\n",
       "<table border=\"1\" class=\"dataframe\">\n",
       "  <thead>\n",
       "    <tr style=\"text-align: right;\">\n",
       "      <th></th>\n",
       "      <th>User-ID</th>\n",
       "      <th>Mean_Rating</th>\n",
       "    </tr>\n",
       "  </thead>\n",
       "  <tbody>\n",
       "    <tr>\n",
       "      <th>0</th>\n",
       "      <td>243</td>\n",
       "      <td>1.946429</td>\n",
       "    </tr>\n",
       "    <tr>\n",
       "      <th>1</th>\n",
       "      <td>254</td>\n",
       "      <td>1.909091</td>\n",
       "    </tr>\n",
       "    <tr>\n",
       "      <th>2</th>\n",
       "      <td>487</td>\n",
       "      <td>1.428571</td>\n",
       "    </tr>\n",
       "    <tr>\n",
       "      <th>3</th>\n",
       "      <td>507</td>\n",
       "      <td>1.742857</td>\n",
       "    </tr>\n",
       "    <tr>\n",
       "      <th>4</th>\n",
       "      <td>638</td>\n",
       "      <td>7.235294</td>\n",
       "    </tr>\n",
       "  </tbody>\n",
       "</table>\n",
       "</div>"
      ],
      "text/plain": [
       "   User-ID  Mean_Rating\n",
       "0      243     1.946429\n",
       "1      254     1.909091\n",
       "2      487     1.428571\n",
       "3      507     1.742857\n",
       "4      638     7.235294"
      ]
     },
     "execution_count": 33,
     "metadata": {},
     "output_type": "execute_result"
    }
   ],
   "source": [
    "mean_rating.head()"
   ]
  },
  {
   "cell_type": "markdown",
   "id": "5429aa18",
   "metadata": {
    "id": "5429aa18"
   },
   "source": [
    "#### Adjusted Ratings\n",
    "The adjusted ratings are calculated to reduce bias and to get a more accurate result:\n",
    "\n",
    "$$\n",
    "\\text{adjusted rating}(r) = r - \\text{mean rating for user}(u),\n",
    "$$\n",
    "\n",
    "where $r$ is the original rating value for a particular book, and $u$ is the user who provided the rating."
   ]
  },
  {
   "cell_type": "code",
   "execution_count": 34,
   "id": "dabf62c4",
   "metadata": {
    "id": "dabf62c4"
   },
   "outputs": [],
   "source": [
    "ratings_df = ratings_df.merge(mean_rating, on='User-ID', how='left')\n",
    "ratings_df['Adj_Rating'] = ratings_df['Book-Rating'] - ratings_df['Mean_Rating']"
   ]
  },
  {
   "cell_type": "code",
   "execution_count": 35,
   "id": "9a25effd",
   "metadata": {
    "id": "9a25effd",
    "outputId": "e681315a-78e8-44be-8417-c408e0d200ad"
   },
   "outputs": [
    {
     "data": {
      "text/html": [
       "<div>\n",
       "<style scoped>\n",
       "    .dataframe tbody tr th:only-of-type {\n",
       "        vertical-align: middle;\n",
       "    }\n",
       "\n",
       "    .dataframe tbody tr th {\n",
       "        vertical-align: top;\n",
       "    }\n",
       "\n",
       "    .dataframe thead th {\n",
       "        text-align: right;\n",
       "    }\n",
       "</style>\n",
       "<table border=\"1\" class=\"dataframe\">\n",
       "  <thead>\n",
       "    <tr style=\"text-align: right;\">\n",
       "      <th></th>\n",
       "      <th>User-ID</th>\n",
       "      <th>ISBN</th>\n",
       "      <th>Book-Rating</th>\n",
       "      <th>Mean_Rating</th>\n",
       "      <th>Adj_Rating</th>\n",
       "    </tr>\n",
       "  </thead>\n",
       "  <tbody>\n",
       "    <tr>\n",
       "      <th>0</th>\n",
       "      <td>277042</td>\n",
       "      <td>0060505885</td>\n",
       "      <td>0</td>\n",
       "      <td>3.230769</td>\n",
       "      <td>-3.230769</td>\n",
       "    </tr>\n",
       "    <tr>\n",
       "      <th>1</th>\n",
       "      <td>277042</td>\n",
       "      <td>0061097101</td>\n",
       "      <td>0</td>\n",
       "      <td>3.230769</td>\n",
       "      <td>-3.230769</td>\n",
       "    </tr>\n",
       "    <tr>\n",
       "      <th>2</th>\n",
       "      <td>277042</td>\n",
       "      <td>0312283709</td>\n",
       "      <td>8</td>\n",
       "      <td>3.230769</td>\n",
       "      <td>4.769231</td>\n",
       "    </tr>\n",
       "    <tr>\n",
       "      <th>3</th>\n",
       "      <td>277042</td>\n",
       "      <td>0312983271</td>\n",
       "      <td>0</td>\n",
       "      <td>3.230769</td>\n",
       "      <td>-3.230769</td>\n",
       "    </tr>\n",
       "    <tr>\n",
       "      <th>4</th>\n",
       "      <td>277042</td>\n",
       "      <td>0380731851</td>\n",
       "      <td>0</td>\n",
       "      <td>3.230769</td>\n",
       "      <td>-3.230769</td>\n",
       "    </tr>\n",
       "    <tr>\n",
       "      <th>...</th>\n",
       "      <td>...</td>\n",
       "      <td>...</td>\n",
       "      <td>...</td>\n",
       "      <td>...</td>\n",
       "      <td>...</td>\n",
       "    </tr>\n",
       "    <tr>\n",
       "      <th>158049</th>\n",
       "      <td>276688</td>\n",
       "      <td>0553575090</td>\n",
       "      <td>7</td>\n",
       "      <td>2.200000</td>\n",
       "      <td>4.800000</td>\n",
       "    </tr>\n",
       "    <tr>\n",
       "      <th>158050</th>\n",
       "      <td>276688</td>\n",
       "      <td>0553575104</td>\n",
       "      <td>6</td>\n",
       "      <td>2.200000</td>\n",
       "      <td>3.800000</td>\n",
       "    </tr>\n",
       "    <tr>\n",
       "      <th>158051</th>\n",
       "      <td>276688</td>\n",
       "      <td>0679459618</td>\n",
       "      <td>0</td>\n",
       "      <td>2.200000</td>\n",
       "      <td>-2.200000</td>\n",
       "    </tr>\n",
       "    <tr>\n",
       "      <th>158052</th>\n",
       "      <td>276688</td>\n",
       "      <td>0679751521</td>\n",
       "      <td>0</td>\n",
       "      <td>2.200000</td>\n",
       "      <td>-2.200000</td>\n",
       "    </tr>\n",
       "    <tr>\n",
       "      <th>158053</th>\n",
       "      <td>276688</td>\n",
       "      <td>068484267X</td>\n",
       "      <td>0</td>\n",
       "      <td>2.200000</td>\n",
       "      <td>-2.200000</td>\n",
       "    </tr>\n",
       "  </tbody>\n",
       "</table>\n",
       "<p>158054 rows × 5 columns</p>\n",
       "</div>"
      ],
      "text/plain": [
       "        User-ID        ISBN  Book-Rating  Mean_Rating  Adj_Rating\n",
       "0        277042  0060505885            0     3.230769   -3.230769\n",
       "1        277042  0061097101            0     3.230769   -3.230769\n",
       "2        277042  0312283709            8     3.230769    4.769231\n",
       "3        277042  0312983271            0     3.230769   -3.230769\n",
       "4        277042  0380731851            0     3.230769   -3.230769\n",
       "...         ...         ...          ...          ...         ...\n",
       "158049   276688  0553575090            7     2.200000    4.800000\n",
       "158050   276688  0553575104            6     2.200000    3.800000\n",
       "158051   276688  0679459618            0     2.200000   -2.200000\n",
       "158052   276688  0679751521            0     2.200000   -2.200000\n",
       "158053   276688  068484267X            0     2.200000   -2.200000\n",
       "\n",
       "[158054 rows x 5 columns]"
      ]
     },
     "execution_count": 35,
     "metadata": {},
     "output_type": "execute_result"
    }
   ],
   "source": [
    "ratings_df"
   ]
  },
  {
   "cell_type": "code",
   "execution_count": 36,
   "id": "c5378161",
   "metadata": {
    "id": "c5378161",
    "outputId": "81e00c2b-60bd-4532-d0e2-6d69881ba540"
   },
   "outputs": [
    {
     "data": {
      "text/plain": [
       "2161"
      ]
     },
     "execution_count": 36,
     "metadata": {},
     "output_type": "execute_result"
    }
   ],
   "source": [
    "len(ratings_df['ISBN'].unique())"
   ]
  },
  {
   "cell_type": "code",
   "execution_count": 37,
   "id": "4e1f1398",
   "metadata": {
    "id": "4e1f1398",
    "outputId": "ecf58b0e-e350-47a1-8394-876315394a65"
   },
   "outputs": [
    {
     "data": {
      "text/html": [
       "<div>\n",
       "<style scoped>\n",
       "    .dataframe tbody tr th:only-of-type {\n",
       "        vertical-align: middle;\n",
       "    }\n",
       "\n",
       "    .dataframe tbody tr th {\n",
       "        vertical-align: top;\n",
       "    }\n",
       "\n",
       "    .dataframe thead th {\n",
       "        text-align: right;\n",
       "    }\n",
       "</style>\n",
       "<table border=\"1\" class=\"dataframe\">\n",
       "  <thead>\n",
       "    <tr style=\"text-align: right;\">\n",
       "      <th></th>\n",
       "      <th>User-ID</th>\n",
       "      <th>ISBN</th>\n",
       "      <th>Book-Rating</th>\n",
       "      <th>Mean_Rating</th>\n",
       "      <th>Adj_Rating</th>\n",
       "    </tr>\n",
       "  </thead>\n",
       "  <tbody>\n",
       "    <tr>\n",
       "      <th>0</th>\n",
       "      <td>277042</td>\n",
       "      <td>0060505885</td>\n",
       "      <td>0</td>\n",
       "      <td>3.230769</td>\n",
       "      <td>-3.230769</td>\n",
       "    </tr>\n",
       "    <tr>\n",
       "      <th>1</th>\n",
       "      <td>277042</td>\n",
       "      <td>0061097101</td>\n",
       "      <td>0</td>\n",
       "      <td>3.230769</td>\n",
       "      <td>-3.230769</td>\n",
       "    </tr>\n",
       "    <tr>\n",
       "      <th>2</th>\n",
       "      <td>277042</td>\n",
       "      <td>0312283709</td>\n",
       "      <td>8</td>\n",
       "      <td>3.230769</td>\n",
       "      <td>4.769231</td>\n",
       "    </tr>\n",
       "    <tr>\n",
       "      <th>3</th>\n",
       "      <td>277042</td>\n",
       "      <td>0312983271</td>\n",
       "      <td>0</td>\n",
       "      <td>3.230769</td>\n",
       "      <td>-3.230769</td>\n",
       "    </tr>\n",
       "    <tr>\n",
       "      <th>4</th>\n",
       "      <td>277042</td>\n",
       "      <td>0380731851</td>\n",
       "      <td>0</td>\n",
       "      <td>3.230769</td>\n",
       "      <td>-3.230769</td>\n",
       "    </tr>\n",
       "    <tr>\n",
       "      <th>...</th>\n",
       "      <td>...</td>\n",
       "      <td>...</td>\n",
       "      <td>...</td>\n",
       "      <td>...</td>\n",
       "      <td>...</td>\n",
       "    </tr>\n",
       "    <tr>\n",
       "      <th>158049</th>\n",
       "      <td>276688</td>\n",
       "      <td>0553575090</td>\n",
       "      <td>7</td>\n",
       "      <td>2.200000</td>\n",
       "      <td>4.800000</td>\n",
       "    </tr>\n",
       "    <tr>\n",
       "      <th>158050</th>\n",
       "      <td>276688</td>\n",
       "      <td>0553575104</td>\n",
       "      <td>6</td>\n",
       "      <td>2.200000</td>\n",
       "      <td>3.800000</td>\n",
       "    </tr>\n",
       "    <tr>\n",
       "      <th>158051</th>\n",
       "      <td>276688</td>\n",
       "      <td>0679459618</td>\n",
       "      <td>0</td>\n",
       "      <td>2.200000</td>\n",
       "      <td>-2.200000</td>\n",
       "    </tr>\n",
       "    <tr>\n",
       "      <th>158052</th>\n",
       "      <td>276688</td>\n",
       "      <td>0679751521</td>\n",
       "      <td>0</td>\n",
       "      <td>2.200000</td>\n",
       "      <td>-2.200000</td>\n",
       "    </tr>\n",
       "    <tr>\n",
       "      <th>158053</th>\n",
       "      <td>276688</td>\n",
       "      <td>068484267X</td>\n",
       "      <td>0</td>\n",
       "      <td>2.200000</td>\n",
       "      <td>-2.200000</td>\n",
       "    </tr>\n",
       "  </tbody>\n",
       "</table>\n",
       "<p>158054 rows × 5 columns</p>\n",
       "</div>"
      ],
      "text/plain": [
       "        User-ID        ISBN  Book-Rating  Mean_Rating  Adj_Rating\n",
       "0        277042  0060505885            0     3.230769   -3.230769\n",
       "1        277042  0061097101            0     3.230769   -3.230769\n",
       "2        277042  0312283709            8     3.230769    4.769231\n",
       "3        277042  0312983271            0     3.230769   -3.230769\n",
       "4        277042  0380731851            0     3.230769   -3.230769\n",
       "...         ...         ...          ...          ...         ...\n",
       "158049   276688  0553575090            7     2.200000    4.800000\n",
       "158050   276688  0553575104            6     2.200000    3.800000\n",
       "158051   276688  0679459618            0     2.200000   -2.200000\n",
       "158052   276688  0679751521            0     2.200000   -2.200000\n",
       "158053   276688  068484267X            0     2.200000   -2.200000\n",
       "\n",
       "[158054 rows x 5 columns]"
      ]
     },
     "execution_count": 37,
     "metadata": {},
     "output_type": "execute_result"
    }
   ],
   "source": [
    "ratings_df"
   ]
  },
  {
   "cell_type": "code",
   "execution_count": 38,
   "id": "2964f70a",
   "metadata": {
    "id": "2964f70a",
    "outputId": "92c3f6eb-6f07-4ac7-94cb-9a42613cb0e5"
   },
   "outputs": [
    {
     "name": "stdout",
     "output_type": "stream",
     "text": [
      "Range of Adj_Rating = [-9.238095238095237, 9.952830188679245]\n"
     ]
    }
   ],
   "source": [
    "print(f\"Range of Adj_Rating = [{ratings_df['Adj_Rating'].min()}, {ratings_df['Adj_Rating'].max()}]\")"
   ]
  },
  {
   "cell_type": "code",
   "execution_count": 39,
   "id": "f00f7cce",
   "metadata": {
    "id": "f00f7cce"
   },
   "outputs": [],
   "source": [
    "# Scale it to [0, 10]\n",
    "min_rating = ratings_df['Adj_Rating'].min()\n",
    "max_rating = ratings_df['Adj_Rating'].max()\n",
    "\n",
    "normalized_rating = (ratings_df['Adj_Rating']- min_rating)/(max_rating - min_rating)*10"
   ]
  },
  {
   "cell_type": "code",
   "execution_count": 40,
   "id": "462b50b5",
   "metadata": {
    "id": "462b50b5",
    "outputId": "e287fb37-89cb-4c7d-f329-0e34765c424a"
   },
   "outputs": [
    {
     "name": "stdout",
     "output_type": "stream",
     "text": [
      "New range = [0.0, 10.0]\n"
     ]
    }
   ],
   "source": [
    "print(f\"New range = [{normalized_rating.min()}, {normalized_rating.max()}]\")"
   ]
  },
  {
   "cell_type": "code",
   "execution_count": 41,
   "id": "c232f1ae",
   "metadata": {
    "id": "c232f1ae"
   },
   "outputs": [],
   "source": [
    "ratings_df['Adj_Rating'] = normalized_rating"
   ]
  },
  {
   "cell_type": "markdown",
   "id": "80e4d47b-727b-49f1-8fb3-55ea31c46a12",
   "metadata": {
    "tags": []
   },
   "source": [
    "## Model Evaluation\n",
    "---"
   ]
  },
  {
   "cell_type": "code",
   "execution_count": 42,
   "id": "1fbe8098",
   "metadata": {
    "id": "1fbe8098"
   },
   "outputs": [],
   "source": [
    "reader = Reader(rating_scale = (0,10))\n",
    "data = Dataset.load_from_df(ratings_df[['User-ID', 'ISBN', \"Adj_Rating\"]], reader)"
   ]
  },
  {
   "cell_type": "code",
   "execution_count": 43,
   "id": "1de3f464",
   "metadata": {
    "id": "1de3f464"
   },
   "outputs": [],
   "source": [
    "algos = [SVD(n_epochs=10), NMF(), NormalPredictor()]"
   ]
  },
  {
   "cell_type": "code",
   "execution_count": 44,
   "id": "e554aff5-e403-4bcc-9e73-c0b5ea7774b8",
   "metadata": {
    "id": "d1f03415",
    "outputId": "62d04f60-229d-4ce0-d6bf-c29f9e493bf7"
   },
   "outputs": [
    {
     "name": "stdout",
     "output_type": "stream",
     "text": [
      "Evaluating RMSE of algorithm SVD on 5 split(s).\n",
      "\n",
      "                  Fold 1  Fold 2  Fold 3  Fold 4  Fold 5  Mean    Std     \n",
      "RMSE (testset)    1.7576  1.7415  1.7473  1.7600  1.7572  1.7527  0.0071  \n",
      "Fit time          0.59    0.62    0.60    0.56    0.56    0.59    0.02    \n",
      "Test time         0.16    0.22    0.10    0.14    0.15    0.15    0.04    \n",
      "------------------\n",
      "Evaluating RMSE of algorithm NMF on 5 split(s).\n",
      "\n",
      "                  Fold 1  Fold 2  Fold 3  Fold 4  Fold 5  Mean    Std     \n",
      "RMSE (testset)    1.9356  1.9605  1.9488  1.9468  1.9490  1.9481  0.0079  \n",
      "Fit time          1.50    1.59    1.51    1.53    1.51    1.52    0.03    \n",
      "Test time         0.08    0.08    0.14    0.14    0.08    0.10    0.03    \n",
      "------------------\n",
      "Evaluating RMSE of algorithm NormalPredictor on 5 split(s).\n",
      "\n",
      "                  Fold 1  Fold 2  Fold 3  Fold 4  Fold 5  Mean    Std     \n",
      "RMSE (testset)    2.4227  2.4441  2.4184  2.4415  2.4448  2.4343  0.0114  \n",
      "Fit time          0.07    0.09    0.09    0.08    0.09    0.08    0.01    \n",
      "Test time         0.07    0.13    0.13    0.07    0.13    0.10    0.03    \n"
     ]
    }
   ],
   "source": [
    "for algo in algos:\n",
    "    cross_validate(algo, data, measures = ['RMSE'], cv = 5, verbose=True)\n",
    "    algo != algos[len(algos)-1] and print('------------------')"
   ]
  },
  {
   "cell_type": "markdown",
   "id": "e1a5b582-a6e7-43f0-af4d-efad994894fa",
   "metadata": {},
   "source": [
    "### Parameter Tuning"
   ]
  },
  {
   "cell_type": "code",
   "execution_count": 45,
   "id": "aafb19c7-c38f-47ed-86d6-85b1c42d67fb",
   "metadata": {
    "id": "546dc1fb",
    "outputId": "a24f0ce1-8c66-482c-ea18-79dd3d7fbc8e"
   },
   "outputs": [
    {
     "name": "stdout",
     "output_type": "stream",
     "text": [
      "Best RMSE score: 1.7220711798576147\n",
      "Best parameters: {'n_factors': 50, 'n_epochs': 5, 'lr_all': 0.002, 'reg_all': 0.8}\n"
     ]
    }
   ],
   "source": [
    "# Set up the Surprise Dataset object and Reader object\n",
    "reader = Reader(rating_scale=(0, 5))\n",
    "\n",
    "# Define the parameter grid to search over\n",
    "param_grid = {'n_factors': [50, 100, 200],\n",
    "              'n_epochs': [5, 10, 20],\n",
    "              'lr_all': [0.002, 0.005, 0.01],\n",
    "              'reg_all': [0.4, 0.6, 0.8]}\n",
    "\n",
    "# Set up the GridSearchCV object\n",
    "gs = GridSearchCV(SVD, param_grid, measures=['rmse'], cv=5, n_jobs=-1)\n",
    "\n",
    "# Run the grid search to find the best model\n",
    "gs.fit(data)\n",
    "\n",
    "# Print the best RMSE score and the combination of parameters that gave the best RMSE score\n",
    "print('Best RMSE score:', gs.best_score['rmse'])\n",
    "print('Best parameters:', gs.best_params['rmse'])"
   ]
  },
  {
   "cell_type": "markdown",
   "id": "07d5e319-62f5-4ca3-9997-a65de56d1672",
   "metadata": {},
   "source": [
    "## Recommendation"
   ]
  },
  {
   "cell_type": "code",
   "execution_count": 46,
   "id": "38d83108-aaef-4e47-9aa7-8357fbe07c18",
   "metadata": {},
   "outputs": [
    {
     "data": {
      "text/plain": [
       "<surprise.prediction_algorithms.matrix_factorization.SVD at 0x286194590>"
      ]
     },
     "execution_count": 46,
     "metadata": {},
     "output_type": "execute_result"
    }
   ],
   "source": [
    "# Set up the Surprise Dataset object and Reader object\n",
    "reader = Reader(rating_scale=(0, 10))\n",
    "data = Dataset.load_from_df(ratings_df[['User-ID', 'ISBN', 'Adj_Rating']], reader)\n",
    "\n",
    "# Split the data into training and test sets\n",
    "trainset, testset = train_test_split(data, test_size=.25)\n",
    "\n",
    "# Set the best hyperparameters found during grid search\n",
    "best_params = {'n_epochs': 5, 'lr_all': 0.002, 'n_factors': 50, 'reg_all': 0.8}\n",
    "\n",
    "# Train the SVD model on the entire dataset using the best hyperparameters\n",
    "algo = SVD(**gs.best_params['rmse'])\n",
    "trainset = data.build_full_trainset()\n",
    "algo.fit(trainset)"
   ]
  },
  {
   "cell_type": "code",
   "execution_count": 47,
   "id": "ac853f29-4817-4376-bc76-686879a57d98",
   "metadata": {},
   "outputs": [],
   "source": [
    "# user list\n",
    "user_list = ratings_df['User-ID'].unique()"
   ]
  },
  {
   "cell_type": "code",
   "execution_count": 48,
   "id": "37167b02-7a8e-49e1-ad6e-3f9646043679",
   "metadata": {},
   "outputs": [],
   "source": [
    "def recommendation(user_input = None):\n",
    "    user_id = random.choice(user_list) if bool(user_input) == False else user_input\n",
    "\n",
    "    books_df[books_df['ISBN'].isin(ratings_df[ratings_df['User-ID']==user_id]['ISBN'])]\n",
    "    user_items = ratings_df[ratings_df['User-ID'] == user_id]['ISBN']\n",
    "    other_items = set(ratings_df['ISBN']) - set(user_items)\n",
    "\n",
    "    testset = [[user_id, item_id, 0] for item_id in other_items]\n",
    "    predictions = algo.test(testset)\n",
    "\n",
    "    # Sort the predicted ratings in descending order and recommend the top-rated books to the user\n",
    "    top_n = 10 # The number of books to recommend\n",
    "    predictions.sort(key=lambda x: x.est, reverse=True)\n",
    "    recommended_books = [pred.iid for pred in predictions][:top_n]\n",
    "\n",
    "    # The books that the user rated\n",
    "    print(\"Recommended books for User #{}:\".format(user_id))\n",
    "    display(books_df[books_df['ISBN'].isin(recommended_books)])"
   ]
  },
  {
   "cell_type": "code",
   "execution_count": 49,
   "id": "618a9210-f5b4-449a-8084-eb3816c84fce",
   "metadata": {},
   "outputs": [
    {
     "name": "stdout",
     "output_type": "stream",
     "text": [
      "Recommended books for User #14422:\n"
     ]
    },
    {
     "data": {
      "text/html": [
       "<div>\n",
       "<style scoped>\n",
       "    .dataframe tbody tr th:only-of-type {\n",
       "        vertical-align: middle;\n",
       "    }\n",
       "\n",
       "    .dataframe tbody tr th {\n",
       "        vertical-align: top;\n",
       "    }\n",
       "\n",
       "    .dataframe thead th {\n",
       "        text-align: right;\n",
       "    }\n",
       "</style>\n",
       "<table border=\"1\" class=\"dataframe\">\n",
       "  <thead>\n",
       "    <tr style=\"text-align: right;\">\n",
       "      <th></th>\n",
       "      <th>ISBN</th>\n",
       "      <th>Book-Title</th>\n",
       "      <th>Book-Author</th>\n",
       "      <th>Year-Of-Publication</th>\n",
       "      <th>Publisher</th>\n",
       "      <th>Image-URL-S</th>\n",
       "      <th>Image-URL-M</th>\n",
       "      <th>Image-URL-L</th>\n",
       "      <th>Ratings_Count</th>\n",
       "    </tr>\n",
       "  </thead>\n",
       "  <tbody>\n",
       "    <tr>\n",
       "      <th>37</th>\n",
       "      <td>0446310786</td>\n",
       "      <td>To Kill a Mockingbird</td>\n",
       "      <td>Harper Lee</td>\n",
       "      <td>1988</td>\n",
       "      <td>Little Brown &amp;amp; Company</td>\n",
       "      <td>http://images.amazon.com/images/P/0446310786.0...</td>\n",
       "      <td>http://images.amazon.com/images/P/0446310786.0...</td>\n",
       "      <td>http://images.amazon.com/images/P/0446310786.0...</td>\n",
       "      <td>389.0</td>\n",
       "    </tr>\n",
       "    <tr>\n",
       "      <th>2143</th>\n",
       "      <td>059035342X</td>\n",
       "      <td>Harry Potter and the Sorcerer's Stone (Harry P...</td>\n",
       "      <td>J. K. Rowling</td>\n",
       "      <td>1999</td>\n",
       "      <td>Arthur A. Levine Books</td>\n",
       "      <td>http://images.amazon.com/images/P/059035342X.0...</td>\n",
       "      <td>http://images.amazon.com/images/P/059035342X.0...</td>\n",
       "      <td>http://images.amazon.com/images/P/059035342X.0...</td>\n",
       "      <td>571.0</td>\n",
       "    </tr>\n",
       "    <tr>\n",
       "      <th>2232</th>\n",
       "      <td>0812550706</td>\n",
       "      <td>Ender's Game (Ender Wiggins Saga (Paperback))</td>\n",
       "      <td>Orson Scott Card</td>\n",
       "      <td>1994</td>\n",
       "      <td>Tor Books</td>\n",
       "      <td>http://images.amazon.com/images/P/0812550706.0...</td>\n",
       "      <td>http://images.amazon.com/images/P/0812550706.0...</td>\n",
       "      <td>http://images.amazon.com/images/P/0812550706.0...</td>\n",
       "      <td>195.0</td>\n",
       "    </tr>\n",
       "    <tr>\n",
       "      <th>2809</th>\n",
       "      <td>0590353403</td>\n",
       "      <td>Harry Potter and the Sorcerer's Stone (Book 1)</td>\n",
       "      <td>J. K. Rowling</td>\n",
       "      <td>1998</td>\n",
       "      <td>Scholastic</td>\n",
       "      <td>http://images.amazon.com/images/P/0590353403.0...</td>\n",
       "      <td>http://images.amazon.com/images/P/0590353403.0...</td>\n",
       "      <td>http://images.amazon.com/images/P/0590353403.0...</td>\n",
       "      <td>168.0</td>\n",
       "    </tr>\n",
       "    <tr>\n",
       "      <th>3839</th>\n",
       "      <td>0439136350</td>\n",
       "      <td>Harry Potter and the Prisoner of Azkaban (Book 3)</td>\n",
       "      <td>J. K. Rowling</td>\n",
       "      <td>1999</td>\n",
       "      <td>Scholastic</td>\n",
       "      <td>http://images.amazon.com/images/P/0439136350.0...</td>\n",
       "      <td>http://images.amazon.com/images/P/0439136350.0...</td>\n",
       "      <td>http://images.amazon.com/images/P/0439136350.0...</td>\n",
       "      <td>197.0</td>\n",
       "    </tr>\n",
       "    <tr>\n",
       "      <th>5431</th>\n",
       "      <td>0439139597</td>\n",
       "      <td>Harry Potter and the Goblet of Fire (Book 4)</td>\n",
       "      <td>J. K. Rowling</td>\n",
       "      <td>2000</td>\n",
       "      <td>Scholastic</td>\n",
       "      <td>http://images.amazon.com/images/P/0439139597.0...</td>\n",
       "      <td>http://images.amazon.com/images/P/0439139597.0...</td>\n",
       "      <td>http://images.amazon.com/images/P/0439139597.0...</td>\n",
       "      <td>194.0</td>\n",
       "    </tr>\n",
       "    <tr>\n",
       "      <th>5432</th>\n",
       "      <td>0439064864</td>\n",
       "      <td>Harry Potter and the Chamber of Secrets (Book 2)</td>\n",
       "      <td>J. K. Rowling</td>\n",
       "      <td>1999</td>\n",
       "      <td>Scholastic</td>\n",
       "      <td>http://images.amazon.com/images/P/0439064864.0...</td>\n",
       "      <td>http://images.amazon.com/images/P/0439064864.0...</td>\n",
       "      <td>http://images.amazon.com/images/P/0439064864.0...</td>\n",
       "      <td>170.0</td>\n",
       "    </tr>\n",
       "    <tr>\n",
       "      <th>5506</th>\n",
       "      <td>043935806X</td>\n",
       "      <td>Harry Potter and the Order of the Phoenix (Boo...</td>\n",
       "      <td>J. K. Rowling</td>\n",
       "      <td>2003</td>\n",
       "      <td>Scholastic</td>\n",
       "      <td>http://images.amazon.com/images/P/043935806X.0...</td>\n",
       "      <td>http://images.amazon.com/images/P/043935806X.0...</td>\n",
       "      <td>http://images.amazon.com/images/P/043935806X.0...</td>\n",
       "      <td>334.0</td>\n",
       "    </tr>\n",
       "    <tr>\n",
       "      <th>6932</th>\n",
       "      <td>0439139600</td>\n",
       "      <td>Harry Potter and the Goblet of Fire (Book 4)</td>\n",
       "      <td>J. K. Rowling</td>\n",
       "      <td>2002</td>\n",
       "      <td>Scholastic Paperbacks</td>\n",
       "      <td>http://images.amazon.com/images/P/0439139600.0...</td>\n",
       "      <td>http://images.amazon.com/images/P/0439139600.0...</td>\n",
       "      <td>http://images.amazon.com/images/P/0439139600.0...</td>\n",
       "      <td>193.0</td>\n",
       "    </tr>\n",
       "    <tr>\n",
       "      <th>19640</th>\n",
       "      <td>0877017883</td>\n",
       "      <td>Griffin &amp;amp; Sabine: An Extraordinary Corresp...</td>\n",
       "      <td>Nick Bantock</td>\n",
       "      <td>1991</td>\n",
       "      <td>Chronicle Books</td>\n",
       "      <td>http://images.amazon.com/images/P/0877017883.0...</td>\n",
       "      <td>http://images.amazon.com/images/P/0877017883.0...</td>\n",
       "      <td>http://images.amazon.com/images/P/0877017883.0...</td>\n",
       "      <td>72.0</td>\n",
       "    </tr>\n",
       "  </tbody>\n",
       "</table>\n",
       "</div>"
      ],
      "text/plain": [
       "             ISBN                                         Book-Title  \\\n",
       "37     0446310786                              To Kill a Mockingbird   \n",
       "2143   059035342X  Harry Potter and the Sorcerer's Stone (Harry P...   \n",
       "2232   0812550706      Ender's Game (Ender Wiggins Saga (Paperback))   \n",
       "2809   0590353403     Harry Potter and the Sorcerer's Stone (Book 1)   \n",
       "3839   0439136350  Harry Potter and the Prisoner of Azkaban (Book 3)   \n",
       "5431   0439139597       Harry Potter and the Goblet of Fire (Book 4)   \n",
       "5432   0439064864   Harry Potter and the Chamber of Secrets (Book 2)   \n",
       "5506   043935806X  Harry Potter and the Order of the Phoenix (Boo...   \n",
       "6932   0439139600       Harry Potter and the Goblet of Fire (Book 4)   \n",
       "19640  0877017883  Griffin &amp; Sabine: An Extraordinary Corresp...   \n",
       "\n",
       "            Book-Author  Year-Of-Publication                   Publisher  \\\n",
       "37           Harper Lee                 1988  Little Brown &amp; Company   \n",
       "2143      J. K. Rowling                 1999      Arthur A. Levine Books   \n",
       "2232   Orson Scott Card                 1994                   Tor Books   \n",
       "2809      J. K. Rowling                 1998                  Scholastic   \n",
       "3839      J. K. Rowling                 1999                  Scholastic   \n",
       "5431      J. K. Rowling                 2000                  Scholastic   \n",
       "5432      J. K. Rowling                 1999                  Scholastic   \n",
       "5506      J. K. Rowling                 2003                  Scholastic   \n",
       "6932      J. K. Rowling                 2002       Scholastic Paperbacks   \n",
       "19640      Nick Bantock                 1991             Chronicle Books   \n",
       "\n",
       "                                             Image-URL-S  \\\n",
       "37     http://images.amazon.com/images/P/0446310786.0...   \n",
       "2143   http://images.amazon.com/images/P/059035342X.0...   \n",
       "2232   http://images.amazon.com/images/P/0812550706.0...   \n",
       "2809   http://images.amazon.com/images/P/0590353403.0...   \n",
       "3839   http://images.amazon.com/images/P/0439136350.0...   \n",
       "5431   http://images.amazon.com/images/P/0439139597.0...   \n",
       "5432   http://images.amazon.com/images/P/0439064864.0...   \n",
       "5506   http://images.amazon.com/images/P/043935806X.0...   \n",
       "6932   http://images.amazon.com/images/P/0439139600.0...   \n",
       "19640  http://images.amazon.com/images/P/0877017883.0...   \n",
       "\n",
       "                                             Image-URL-M  \\\n",
       "37     http://images.amazon.com/images/P/0446310786.0...   \n",
       "2143   http://images.amazon.com/images/P/059035342X.0...   \n",
       "2232   http://images.amazon.com/images/P/0812550706.0...   \n",
       "2809   http://images.amazon.com/images/P/0590353403.0...   \n",
       "3839   http://images.amazon.com/images/P/0439136350.0...   \n",
       "5431   http://images.amazon.com/images/P/0439139597.0...   \n",
       "5432   http://images.amazon.com/images/P/0439064864.0...   \n",
       "5506   http://images.amazon.com/images/P/043935806X.0...   \n",
       "6932   http://images.amazon.com/images/P/0439139600.0...   \n",
       "19640  http://images.amazon.com/images/P/0877017883.0...   \n",
       "\n",
       "                                             Image-URL-L  Ratings_Count  \n",
       "37     http://images.amazon.com/images/P/0446310786.0...          389.0  \n",
       "2143   http://images.amazon.com/images/P/059035342X.0...          571.0  \n",
       "2232   http://images.amazon.com/images/P/0812550706.0...          195.0  \n",
       "2809   http://images.amazon.com/images/P/0590353403.0...          168.0  \n",
       "3839   http://images.amazon.com/images/P/0439136350.0...          197.0  \n",
       "5431   http://images.amazon.com/images/P/0439139597.0...          194.0  \n",
       "5432   http://images.amazon.com/images/P/0439064864.0...          170.0  \n",
       "5506   http://images.amazon.com/images/P/043935806X.0...          334.0  \n",
       "6932   http://images.amazon.com/images/P/0439139600.0...          193.0  \n",
       "19640  http://images.amazon.com/images/P/0877017883.0...           72.0  "
      ]
     },
     "metadata": {},
     "output_type": "display_data"
    }
   ],
   "source": [
    "# Input User-ID OR input nothing for random user\n",
    "recommendation(input(\"Input a User-ID or input nothing for a random user: \")) # e.g. 277042"
   ]
  }
 ],
 "metadata": {
  "colab": {
   "provenance": []
  },
  "kernelspec": {
   "display_name": "ML",
   "language": "python",
   "name": "ml"
  },
  "language_info": {
   "codemirror_mode": {
    "name": "ipython",
    "version": 3
   },
   "file_extension": ".py",
   "mimetype": "text/x-python",
   "name": "python",
   "nbconvert_exporter": "python",
   "pygments_lexer": "ipython3",
   "version": "3.11.7"
  }
 },
 "nbformat": 4,
 "nbformat_minor": 5
}
